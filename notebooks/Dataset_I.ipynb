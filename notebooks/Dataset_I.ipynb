{
  "nbformat": 4,
  "nbformat_minor": 0,
  "metadata": {
    "colab": {
      "name": "Dataset_I.ipynb",
      "provenance": [],
      "collapsed_sections": [],
      "toc_visible": true
    },
    "kernelspec": {
      "name": "python3",
      "display_name": "Python 3"
    },
    "language_info": {
      "name": "python"
    }
  },
  "cells": [
    {
      "cell_type": "markdown",
      "source": [
        "\n",
        "# DESCRIPCIÓN DEL DATASET\n",
        "\n",
        "El siguiente dataset contiene los datos de consumo de combustible para 946 vehículos en Norte América y Europa. Se presentan datos como el tamaño del motor, tipo de transmisión, emisiones en CO2, tipo de combustible, consumo de combustible en litros cada 100 km y en millas por galón, tanto en ciudad como en la autopista.\n",
        "\n"
      ],
      "metadata": {
        "id": "2T6XDUqe3ir0"
      }
    },
    {
      "cell_type": "code",
      "source": [
        "import pandas as pd\n",
        "import numpy as np\n",
        "import matplotlib.pyplot as plt\n",
        "import seaborn as sns\n",
        "df = pd.read_csv(\"/content/MY2022 Fuel Consumption Ratings.csv\")\n",
        "df"
      ],
      "metadata": {
        "colab": {
          "base_uri": "https://localhost:8080/",
          "height": 887
        },
        "id": "HtazMP681y1S",
        "outputId": "a2307eb1-ea90-401f-e2a6-894f055451bc"
      },
      "execution_count": 2,
      "outputs": [
        {
          "output_type": "execute_result",
          "data": {
            "text/plain": [
              "     Model Year   Make              Model  Vehicle Class  Engine Size(L)  \\\n",
              "0          2022  Acura                ILX        Compact             2.4   \n",
              "1          2022  Acura         MDX SH-AWD     SUV: Small             3.5   \n",
              "2          2022  Acura         RDX SH-AWD     SUV: Small             2.0   \n",
              "3          2022  Acura  RDX SH-AWD A-SPEC     SUV: Small             2.0   \n",
              "4          2022  Acura         TLX SH-AWD        Compact             2.0   \n",
              "..          ...    ...                ...            ...             ...   \n",
              "941        2022  Volvo        XC40 T5 AWD     SUV: Small             2.0   \n",
              "942        2022  Volvo        XC60 B5 AWD     SUV: Small             2.0   \n",
              "943        2022  Volvo        XC60 B6 AWD     SUV: Small             2.0   \n",
              "944        2022  Volvo        XC90 T5 AWD  SUV: Standard             2.0   \n",
              "945        2022  Volvo        XC90 T6 AWD  SUV: Standard             2.0   \n",
              "\n",
              "     Cylinders Transmission Fuel Type  Fuel Consumption (City (L/100 km)  \\\n",
              "0            4          AM8         Z                                9.9   \n",
              "1            6         AS10         Z                               12.6   \n",
              "2            4         AS10         Z                               11.0   \n",
              "3            4         AS10         Z                               11.3   \n",
              "4            4         AS10         Z                               11.2   \n",
              "..         ...          ...       ...                                ...   \n",
              "941          4          AS8         Z                               10.7   \n",
              "942          4          AS8         Z                               10.5   \n",
              "943          4          AS8         Z                               11.0   \n",
              "944          4          AS8         Z                               11.5   \n",
              "945          4          AS8         Z                               12.4   \n",
              "\n",
              "     Fuel Consumption(Hwy (L/100 km))  Fuel Consumption(Comb (L/100 km))  \\\n",
              "0                                 7.0                                8.6   \n",
              "1                                 9.4                               11.2   \n",
              "2                                 8.6                                9.9   \n",
              "3                                 9.1                               10.3   \n",
              "4                                 8.0                                9.8   \n",
              "..                                ...                                ...   \n",
              "941                               7.7                                9.4   \n",
              "942                               8.1                                9.4   \n",
              "943                               8.7                                9.9   \n",
              "944                               8.4                               10.1   \n",
              "945                               8.9                               10.8   \n",
              "\n",
              "     Fuel Consumption(Comb (mpg))  CO2 Emissions(g/km)  CO2 Rating  \\\n",
              "0                              33                  200           6   \n",
              "1                              25                  263           4   \n",
              "2                              29                  232           5   \n",
              "3                              27                  242           5   \n",
              "4                              29                  230           5   \n",
              "..                            ...                  ...         ...   \n",
              "941                            30                  219           5   \n",
              "942                            30                  219           5   \n",
              "943                            29                  232           5   \n",
              "944                            28                  236           5   \n",
              "945                            26                  252           5   \n",
              "\n",
              "     Smog Rating  \n",
              "0              3  \n",
              "1              5  \n",
              "2              6  \n",
              "3              6  \n",
              "4              7  \n",
              "..           ...  \n",
              "941            5  \n",
              "942            5  \n",
              "943            7  \n",
              "944            5  \n",
              "945            7  \n",
              "\n",
              "[946 rows x 15 columns]"
            ],
            "text/html": [
              "\n",
              "  <div id=\"df-694ceb1b-5330-45da-8d63-883c388f290c\">\n",
              "    <div class=\"colab-df-container\">\n",
              "      <div>\n",
              "<style scoped>\n",
              "    .dataframe tbody tr th:only-of-type {\n",
              "        vertical-align: middle;\n",
              "    }\n",
              "\n",
              "    .dataframe tbody tr th {\n",
              "        vertical-align: top;\n",
              "    }\n",
              "\n",
              "    .dataframe thead th {\n",
              "        text-align: right;\n",
              "    }\n",
              "</style>\n",
              "<table border=\"1\" class=\"dataframe\">\n",
              "  <thead>\n",
              "    <tr style=\"text-align: right;\">\n",
              "      <th></th>\n",
              "      <th>Model Year</th>\n",
              "      <th>Make</th>\n",
              "      <th>Model</th>\n",
              "      <th>Vehicle Class</th>\n",
              "      <th>Engine Size(L)</th>\n",
              "      <th>Cylinders</th>\n",
              "      <th>Transmission</th>\n",
              "      <th>Fuel Type</th>\n",
              "      <th>Fuel Consumption (City (L/100 km)</th>\n",
              "      <th>Fuel Consumption(Hwy (L/100 km))</th>\n",
              "      <th>Fuel Consumption(Comb (L/100 km))</th>\n",
              "      <th>Fuel Consumption(Comb (mpg))</th>\n",
              "      <th>CO2 Emissions(g/km)</th>\n",
              "      <th>CO2 Rating</th>\n",
              "      <th>Smog Rating</th>\n",
              "    </tr>\n",
              "  </thead>\n",
              "  <tbody>\n",
              "    <tr>\n",
              "      <th>0</th>\n",
              "      <td>2022</td>\n",
              "      <td>Acura</td>\n",
              "      <td>ILX</td>\n",
              "      <td>Compact</td>\n",
              "      <td>2.4</td>\n",
              "      <td>4</td>\n",
              "      <td>AM8</td>\n",
              "      <td>Z</td>\n",
              "      <td>9.9</td>\n",
              "      <td>7.0</td>\n",
              "      <td>8.6</td>\n",
              "      <td>33</td>\n",
              "      <td>200</td>\n",
              "      <td>6</td>\n",
              "      <td>3</td>\n",
              "    </tr>\n",
              "    <tr>\n",
              "      <th>1</th>\n",
              "      <td>2022</td>\n",
              "      <td>Acura</td>\n",
              "      <td>MDX SH-AWD</td>\n",
              "      <td>SUV: Small</td>\n",
              "      <td>3.5</td>\n",
              "      <td>6</td>\n",
              "      <td>AS10</td>\n",
              "      <td>Z</td>\n",
              "      <td>12.6</td>\n",
              "      <td>9.4</td>\n",
              "      <td>11.2</td>\n",
              "      <td>25</td>\n",
              "      <td>263</td>\n",
              "      <td>4</td>\n",
              "      <td>5</td>\n",
              "    </tr>\n",
              "    <tr>\n",
              "      <th>2</th>\n",
              "      <td>2022</td>\n",
              "      <td>Acura</td>\n",
              "      <td>RDX SH-AWD</td>\n",
              "      <td>SUV: Small</td>\n",
              "      <td>2.0</td>\n",
              "      <td>4</td>\n",
              "      <td>AS10</td>\n",
              "      <td>Z</td>\n",
              "      <td>11.0</td>\n",
              "      <td>8.6</td>\n",
              "      <td>9.9</td>\n",
              "      <td>29</td>\n",
              "      <td>232</td>\n",
              "      <td>5</td>\n",
              "      <td>6</td>\n",
              "    </tr>\n",
              "    <tr>\n",
              "      <th>3</th>\n",
              "      <td>2022</td>\n",
              "      <td>Acura</td>\n",
              "      <td>RDX SH-AWD A-SPEC</td>\n",
              "      <td>SUV: Small</td>\n",
              "      <td>2.0</td>\n",
              "      <td>4</td>\n",
              "      <td>AS10</td>\n",
              "      <td>Z</td>\n",
              "      <td>11.3</td>\n",
              "      <td>9.1</td>\n",
              "      <td>10.3</td>\n",
              "      <td>27</td>\n",
              "      <td>242</td>\n",
              "      <td>5</td>\n",
              "      <td>6</td>\n",
              "    </tr>\n",
              "    <tr>\n",
              "      <th>4</th>\n",
              "      <td>2022</td>\n",
              "      <td>Acura</td>\n",
              "      <td>TLX SH-AWD</td>\n",
              "      <td>Compact</td>\n",
              "      <td>2.0</td>\n",
              "      <td>4</td>\n",
              "      <td>AS10</td>\n",
              "      <td>Z</td>\n",
              "      <td>11.2</td>\n",
              "      <td>8.0</td>\n",
              "      <td>9.8</td>\n",
              "      <td>29</td>\n",
              "      <td>230</td>\n",
              "      <td>5</td>\n",
              "      <td>7</td>\n",
              "    </tr>\n",
              "    <tr>\n",
              "      <th>...</th>\n",
              "      <td>...</td>\n",
              "      <td>...</td>\n",
              "      <td>...</td>\n",
              "      <td>...</td>\n",
              "      <td>...</td>\n",
              "      <td>...</td>\n",
              "      <td>...</td>\n",
              "      <td>...</td>\n",
              "      <td>...</td>\n",
              "      <td>...</td>\n",
              "      <td>...</td>\n",
              "      <td>...</td>\n",
              "      <td>...</td>\n",
              "      <td>...</td>\n",
              "      <td>...</td>\n",
              "    </tr>\n",
              "    <tr>\n",
              "      <th>941</th>\n",
              "      <td>2022</td>\n",
              "      <td>Volvo</td>\n",
              "      <td>XC40 T5 AWD</td>\n",
              "      <td>SUV: Small</td>\n",
              "      <td>2.0</td>\n",
              "      <td>4</td>\n",
              "      <td>AS8</td>\n",
              "      <td>Z</td>\n",
              "      <td>10.7</td>\n",
              "      <td>7.7</td>\n",
              "      <td>9.4</td>\n",
              "      <td>30</td>\n",
              "      <td>219</td>\n",
              "      <td>5</td>\n",
              "      <td>5</td>\n",
              "    </tr>\n",
              "    <tr>\n",
              "      <th>942</th>\n",
              "      <td>2022</td>\n",
              "      <td>Volvo</td>\n",
              "      <td>XC60 B5 AWD</td>\n",
              "      <td>SUV: Small</td>\n",
              "      <td>2.0</td>\n",
              "      <td>4</td>\n",
              "      <td>AS8</td>\n",
              "      <td>Z</td>\n",
              "      <td>10.5</td>\n",
              "      <td>8.1</td>\n",
              "      <td>9.4</td>\n",
              "      <td>30</td>\n",
              "      <td>219</td>\n",
              "      <td>5</td>\n",
              "      <td>5</td>\n",
              "    </tr>\n",
              "    <tr>\n",
              "      <th>943</th>\n",
              "      <td>2022</td>\n",
              "      <td>Volvo</td>\n",
              "      <td>XC60 B6 AWD</td>\n",
              "      <td>SUV: Small</td>\n",
              "      <td>2.0</td>\n",
              "      <td>4</td>\n",
              "      <td>AS8</td>\n",
              "      <td>Z</td>\n",
              "      <td>11.0</td>\n",
              "      <td>8.7</td>\n",
              "      <td>9.9</td>\n",
              "      <td>29</td>\n",
              "      <td>232</td>\n",
              "      <td>5</td>\n",
              "      <td>7</td>\n",
              "    </tr>\n",
              "    <tr>\n",
              "      <th>944</th>\n",
              "      <td>2022</td>\n",
              "      <td>Volvo</td>\n",
              "      <td>XC90 T5 AWD</td>\n",
              "      <td>SUV: Standard</td>\n",
              "      <td>2.0</td>\n",
              "      <td>4</td>\n",
              "      <td>AS8</td>\n",
              "      <td>Z</td>\n",
              "      <td>11.5</td>\n",
              "      <td>8.4</td>\n",
              "      <td>10.1</td>\n",
              "      <td>28</td>\n",
              "      <td>236</td>\n",
              "      <td>5</td>\n",
              "      <td>5</td>\n",
              "    </tr>\n",
              "    <tr>\n",
              "      <th>945</th>\n",
              "      <td>2022</td>\n",
              "      <td>Volvo</td>\n",
              "      <td>XC90 T6 AWD</td>\n",
              "      <td>SUV: Standard</td>\n",
              "      <td>2.0</td>\n",
              "      <td>4</td>\n",
              "      <td>AS8</td>\n",
              "      <td>Z</td>\n",
              "      <td>12.4</td>\n",
              "      <td>8.9</td>\n",
              "      <td>10.8</td>\n",
              "      <td>26</td>\n",
              "      <td>252</td>\n",
              "      <td>5</td>\n",
              "      <td>7</td>\n",
              "    </tr>\n",
              "  </tbody>\n",
              "</table>\n",
              "<p>946 rows × 15 columns</p>\n",
              "</div>\n",
              "      <button class=\"colab-df-convert\" onclick=\"convertToInteractive('df-694ceb1b-5330-45da-8d63-883c388f290c')\"\n",
              "              title=\"Convert this dataframe to an interactive table.\"\n",
              "              style=\"display:none;\">\n",
              "        \n",
              "  <svg xmlns=\"http://www.w3.org/2000/svg\" height=\"24px\"viewBox=\"0 0 24 24\"\n",
              "       width=\"24px\">\n",
              "    <path d=\"M0 0h24v24H0V0z\" fill=\"none\"/>\n",
              "    <path d=\"M18.56 5.44l.94 2.06.94-2.06 2.06-.94-2.06-.94-.94-2.06-.94 2.06-2.06.94zm-11 1L8.5 8.5l.94-2.06 2.06-.94-2.06-.94L8.5 2.5l-.94 2.06-2.06.94zm10 10l.94 2.06.94-2.06 2.06-.94-2.06-.94-.94-2.06-.94 2.06-2.06.94z\"/><path d=\"M17.41 7.96l-1.37-1.37c-.4-.4-.92-.59-1.43-.59-.52 0-1.04.2-1.43.59L10.3 9.45l-7.72 7.72c-.78.78-.78 2.05 0 2.83L4 21.41c.39.39.9.59 1.41.59.51 0 1.02-.2 1.41-.59l7.78-7.78 2.81-2.81c.8-.78.8-2.07 0-2.86zM5.41 20L4 18.59l7.72-7.72 1.47 1.35L5.41 20z\"/>\n",
              "  </svg>\n",
              "      </button>\n",
              "      \n",
              "  <style>\n",
              "    .colab-df-container {\n",
              "      display:flex;\n",
              "      flex-wrap:wrap;\n",
              "      gap: 12px;\n",
              "    }\n",
              "\n",
              "    .colab-df-convert {\n",
              "      background-color: #E8F0FE;\n",
              "      border: none;\n",
              "      border-radius: 50%;\n",
              "      cursor: pointer;\n",
              "      display: none;\n",
              "      fill: #1967D2;\n",
              "      height: 32px;\n",
              "      padding: 0 0 0 0;\n",
              "      width: 32px;\n",
              "    }\n",
              "\n",
              "    .colab-df-convert:hover {\n",
              "      background-color: #E2EBFA;\n",
              "      box-shadow: 0px 1px 2px rgba(60, 64, 67, 0.3), 0px 1px 3px 1px rgba(60, 64, 67, 0.15);\n",
              "      fill: #174EA6;\n",
              "    }\n",
              "\n",
              "    [theme=dark] .colab-df-convert {\n",
              "      background-color: #3B4455;\n",
              "      fill: #D2E3FC;\n",
              "    }\n",
              "\n",
              "    [theme=dark] .colab-df-convert:hover {\n",
              "      background-color: #434B5C;\n",
              "      box-shadow: 0px 1px 3px 1px rgba(0, 0, 0, 0.15);\n",
              "      filter: drop-shadow(0px 1px 2px rgba(0, 0, 0, 0.3));\n",
              "      fill: #FFFFFF;\n",
              "    }\n",
              "  </style>\n",
              "\n",
              "      <script>\n",
              "        const buttonEl =\n",
              "          document.querySelector('#df-694ceb1b-5330-45da-8d63-883c388f290c button.colab-df-convert');\n",
              "        buttonEl.style.display =\n",
              "          google.colab.kernel.accessAllowed ? 'block' : 'none';\n",
              "\n",
              "        async function convertToInteractive(key) {\n",
              "          const element = document.querySelector('#df-694ceb1b-5330-45da-8d63-883c388f290c');\n",
              "          const dataTable =\n",
              "            await google.colab.kernel.invokeFunction('convertToInteractive',\n",
              "                                                     [key], {});\n",
              "          if (!dataTable) return;\n",
              "\n",
              "          const docLinkHtml = 'Like what you see? Visit the ' +\n",
              "            '<a target=\"_blank\" href=https://colab.research.google.com/notebooks/data_table.ipynb>data table notebook</a>'\n",
              "            + ' to learn more about interactive tables.';\n",
              "          element.innerHTML = '';\n",
              "          dataTable['output_type'] = 'display_data';\n",
              "          await google.colab.output.renderOutput(dataTable, element);\n",
              "          const docLink = document.createElement('div');\n",
              "          docLink.innerHTML = docLinkHtml;\n",
              "          element.appendChild(docLink);\n",
              "        }\n",
              "      </script>\n",
              "    </div>\n",
              "  </div>\n",
              "  "
            ]
          },
          "metadata": {},
          "execution_count": 2
        }
      ]
    },
    {
      "cell_type": "code",
      "source": [
        "df.info()"
      ],
      "metadata": {
        "colab": {
          "base_uri": "https://localhost:8080/"
        },
        "id": "xVuXi3kg2WJy",
        "outputId": "afb8b64f-3957-4be3-b65c-222fb641e7ce"
      },
      "execution_count": null,
      "outputs": [
        {
          "output_type": "stream",
          "name": "stdout",
          "text": [
            "<class 'pandas.core.frame.DataFrame'>\n",
            "RangeIndex: 946 entries, 0 to 945\n",
            "Data columns (total 15 columns):\n",
            " #   Column                             Non-Null Count  Dtype  \n",
            "---  ------                             --------------  -----  \n",
            " 0   Model Year                         946 non-null    int64  \n",
            " 1   Make                               946 non-null    object \n",
            " 2   Model                              946 non-null    object \n",
            " 3   Vehicle Class                      946 non-null    object \n",
            " 4   Engine Size(L)                     946 non-null    float64\n",
            " 5   Cylinders                          946 non-null    int64  \n",
            " 6   Transmission                       946 non-null    object \n",
            " 7   Fuel Type                          946 non-null    object \n",
            " 8   Fuel Consumption (City (L/100 km)  946 non-null    float64\n",
            " 9   Fuel Consumption(Hwy (L/100 km))   946 non-null    float64\n",
            " 10  Fuel Consumption(Comb (L/100 km))  946 non-null    float64\n",
            " 11  Fuel Consumption(Comb (mpg))       946 non-null    int64  \n",
            " 12  CO2 Emissions(g/km)                946 non-null    int64  \n",
            " 13  CO2 Rating                         946 non-null    int64  \n",
            " 14  Smog Rating                        946 non-null    int64  \n",
            "dtypes: float64(4), int64(6), object(5)\n",
            "memory usage: 111.0+ KB\n"
          ]
        }
      ]
    },
    {
      "cell_type": "markdown",
      "source": [
        "# Análisis de consumo \n"
      ],
      "metadata": {
        "id": "DXXbFvDjOGKt"
      }
    },
    {
      "cell_type": "markdown",
      "source": [
        "## Análisis de consumo combinado L/100km por Marca"
      ],
      "metadata": {
        "id": "kePkRlhP_AOF"
      }
    },
    {
      "cell_type": "markdown",
      "source": [
        "Análisis de consumo combinado en los Litros que se necesitan para recorrer 100km, en cada una de las Marcas de autos del dataset.\n",
        "\n",
        "La mayoría de marcas con mayor volumen de ventas como Hyundai, Kia, Ford o Toyota, se encuentran dentro del mismo rango, puesto que deben competir para obtener mejores ventas. Caso contrario de una marca exclusiva como Buggati que se considerar como caso atípicos extremos o Lamborguini como más atípico que extremo. Dato interesante de Rolls Royce en que tiene muy pocos modelos y con consumos de combustible muy similares."
      ],
      "metadata": {
        "id": "WgPnT7Cc526w"
      }
    },
    {
      "cell_type": "code",
      "source": [
        "\n",
        "sns.set(rc={'figure.figsize':(12, 10)})\n",
        "sns.set_style(\"white\") \n",
        "sns.boxplot(y=df.Make, x=df[\"Fuel Consumption(Comb (L/100 km))\"], orient=\"h\")\n",
        "plt.title(\"Consumo de Combustible por Marca\")\n",
        "plt.gca().xaxis.grid(True, linestyle='-', which='major', color='grey', alpha=.15) \n",
        "plt.show()"
      ],
      "metadata": {
        "id": "VHNjRbDH-_92"
      },
      "execution_count": null,
      "outputs": []
    },
    {
      "cell_type": "markdown",
      "source": [
        "## Consumo por una marca en específico"
      ],
      "metadata": {
        "id": "g_DFwBvM7XHq"
      }
    },
    {
      "cell_type": "markdown",
      "source": [
        "Este es un gráfico que presenta el consumo de millas por galón, en una marca determinada. En este caso se hace la prueba con Lexus y contrario a la intuición que se pueda tener las barras más altas indican un menor consumo, dado a que se está midiendo la distancia máxima en millas que se puede recorrer con un galón de combustible. \n",
        "\n",
        "Por ejemplo la Lexus LX 600 es una camioneta de gran tamaño con un motor de gran desplazamiento, lo que deriva un consumo muy alto respecto   al modelo Lexus ES 300h, siendo este un vehículo híbrido. La media de consumo de combustible, entre todos los modelos de Lexus es 30.50 MPG vs al promedio general del  dataset que son 27.25 MPG, lo que dice que en promedio Lexus no es tan eficiente. Sin embargo, Lexus no tiene tantos modelos como Ford, que en promedio arroja un consumo de 24.75 MPG con "
      ],
      "metadata": {
        "id": "px9CDLaj6DSx"
      }
    },
    {
      "cell_type": "code",
      "source": [
        "# Ingrese una marca\n",
        "\n",
        "marcaVehiculo = \"Lexus\"\n",
        "df_make = df[df[\"Make\"] == marcaVehiculo] \n",
        "df_make\n",
        "\n",
        "tittle = \"Consumo de Modelos \"+marcaVehiculo\n",
        "sns.set(rc={'figure.figsize':(10, 5)})\n",
        "sns.set_style(\"dark\")\n",
        "\n",
        "df_make.plot(x='Model', y='Fuel Consumption(Comb (mpg))', kind = 'bar', \n",
        "                                                                       legend=False, \n",
        "                                                                       ylabel='Consumo (MPG)', \n",
        "                                                                       xlabel='Modelo', \n",
        "                                                                       title=tittle)                                                                      \n",
        "plt.gca().yaxis.grid(True, linestyle='--', which='minor', color='white', alpha=.15)\n",
        "plt.show()"
      ],
      "metadata": {
        "id": "OKkwl7BDF6Wm"
      },
      "execution_count": null,
      "outputs": []
    },
    {
      "cell_type": "code",
      "source": [
        "media = np.mean(df_make[\"Fuel Consumption(Comb (mpg))\"])\n",
        "print(\"Media de MPG para Lexus: {0:.2f}\".format(media))\n",
        "\n",
        "marcaVehiculo = \"Ford\"\n",
        "df_make = df[df[\"Make\"] == marcaVehiculo] \n",
        "\n",
        "media = np.mean(df_make[\"Fuel Consumption(Comb (mpg))\"])\n",
        "print(\"Media de MPG para Ford: {0:.2f}\".format(media))"
      ],
      "metadata": {
        "colab": {
          "base_uri": "https://localhost:8080/"
        },
        "id": "XBg3rnfX0xcK",
        "outputId": "dae3fcc0-487f-4e56-f566-5c504729a228"
      },
      "execution_count": null,
      "outputs": [
        {
          "output_type": "stream",
          "name": "stdout",
          "text": [
            "Media de MPG para Lexus: 30.50\n",
            "Media de MPG para Ford: 24.75\n"
          ]
        }
      ]
    },
    {
      "cell_type": "markdown",
      "source": [
        "# Analisis del uso de transmisores\n"
      ],
      "metadata": {
        "id": "oQ8d75jIAvDp"
      }
    },
    {
      "cell_type": "markdown",
      "source": [
        "## Análisis de los transmisores mas utilizados"
      ],
      "metadata": {
        "id": "E2I7SL2iBLFz"
      }
    },
    {
      "cell_type": "markdown",
      "source": [
        "Analizaremos en nuestra base de datos cuales son los 3 tipos de transmisores mas utilizados y a su vez la marca de vehiculos que mas la utiliza.\n",
        "\n",
        "Los distintos modelos de automoviles analizados no siempre usan la misma transmision, por lo cual se grafica la cantidad de veces que se repite el uso de los transmisores en los distintos modelos de nuestra base de datos."
      ],
      "metadata": {
        "id": "sVvpSKS7A9M-"
      }
    },
    {
      "cell_type": "code",
      "source": [
        "sns.set(rc={'figure.figsize':(7, 7)}) \n",
        "sns.set_style(\"white\") #fondo blanco\n",
        "df.reset_index().groupby(['Transmission']).count().reset_index().plot(x='Transmission', \n",
        "                                                                           y='index', \n",
        "                                                                           kind='bar', \n",
        "                                                                           legend=False, \n",
        "                                                                           ylabel='cantidad modelos que usan el transmisor', \n",
        "                                                                           xlabel='Tipo Transmision', \n",
        "                                                                           title='uso transmisores',\n",
        "                                                                           )             \n",
        "plt.gca().yaxis.grid(True, linestyle='-', which='major', color='grey', alpha=.15) #lineas horizontales\n",
        "plt.show()"
      ],
      "metadata": {
        "colab": {
          "base_uri": "https://localhost:8080/",
          "height": 482
        },
        "id": "3ZwVtbVoBUPI",
        "outputId": "0afd9437-07c5-4048-9698-cbb015fd3c90"
      },
      "execution_count": 4,
      "outputs": [
        {
          "output_type": "display_data",
          "data": {
            "text/plain": [
              "<Figure size 504x504 with 1 Axes>"
            ],
            "image/png": "[encoded data removed]"
          },
          "metadata": {}
        }
      ]
    },
    {
      "cell_type": "markdown",
      "source": [
        "Observamos que el tipo de transmisor mas usado es el AS8, ahora verificaremos la cantidad . Numericamente se obtuvo la siguiente distribución: "
      ],
      "metadata": {
        "id": "IquEcv0cCCuc"
      }
    },
    {
      "cell_type": "code",
      "source": [
        "dep = df.Transmission.value_counts() #conteo del uso de transmisores\n",
        "dep.head(10)"
      ],
      "metadata": {
        "colab": {
          "base_uri": "https://localhost:8080/"
        },
        "id": "snh_3TMWCAPS",
        "outputId": "e1d91ea5-89c0-4005-b9c3-1c2f0c9fa4e4"
      },
      "execution_count": 6,
      "outputs": [
        {
          "output_type": "execute_result",
          "data": {
            "text/plain": [
              "AS8     212\n",
              "A8      100\n",
              "AS10     87\n",
              "A10      72\n",
              "M6       71\n",
              "AM7      70\n",
              "A9       65\n",
              "AM8      52\n",
              "AV       43\n",
              "AS6      39\n",
              "Name: Transmission, dtype: int64"
            ]
          },
          "metadata": {},
          "execution_count": 6
        }
      ]
    },
    {
      "cell_type": "markdown",
      "source": [
        "## Transmisores mas usados por marca"
      ],
      "metadata": {
        "id": "JbL_m4KFCV2M"
      }
    },
    {
      "cell_type": "markdown",
      "source": [
        "### transmisor AS8 (mas usado)"
      ],
      "metadata": {
        "id": "lMGuFghrCn5i"
      }
    },
    {
      "cell_type": "markdown",
      "source": [
        "Ahora comprobando el uso del transmisor mas usado, pero lo separaremos por marcas"
      ],
      "metadata": {
        "id": "Bt77SMqLC3ED"
      }
    },
    {
      "cell_type": "code",
      "source": [
        "trmay = \"AS8\"\n",
        "df_tr = df[df[\"Transmission\"] == trmay]\n",
        "\n",
        "sns.set(rc={'figure.figsize':(7, 7)}) \n",
        "sns.set_style(\"white\") #fondo blanco\n",
        "df_tr.groupby(['Make']).count().reset_index().plot(x='Make', \n",
        "                                                                           y='Transmission', \n",
        "                                                                           kind='bar', \n",
        "                                                                           legend=False, \n",
        "                                                                           ylabel='cantidad', \n",
        "                                                                           xlabel='marcas', \n",
        "                                                                           title='uso del transmisor AS8',\n",
        "                                                                           )             \n",
        "plt.gca().yaxis.grid(True, linestyle='-', which='major', color='grey', alpha=.15) #lineas horizontales\n",
        "plt.show()"
      ],
      "metadata": {
        "id": "PYNVi8u-C3lA"
      },
      "execution_count": null,
      "outputs": []
    },
    {
      "cell_type": "markdown",
      "source": [
        "Vemos que la marca de vehiculos que mas utiliza el transmisor AS8 es BMW.Numericamente se obtuvo la siguiente distribución:"
      ],
      "metadata": {
        "id": "B2x9jlb9DGft"
      }
    },
    {
      "cell_type": "code",
      "source": [
        "dep = df_tr.Make.value_counts() #conteo del uso de transmisores\n",
        "dep.head(30)"
      ],
      "metadata": {
        "colab": {
          "base_uri": "https://localhost:8080/"
        },
        "id": "0PXog57rDKSa",
        "outputId": "0935eae6-7f8b-47b5-8cb1-5fb3b3750a7e"
      },
      "execution_count": 9,
      "outputs": [
        {
          "output_type": "execute_result",
          "data": {
            "text/plain": [
              "BMW            58\n",
              "Audi           22\n",
              "Land Rover     18\n",
              "Toyota         15\n",
              "Volvo          12\n",
              "Lexus          10\n",
              "Ford            9\n",
              "Porsche         9\n",
              "Genesis         8\n",
              "Volkswagen      8\n",
              "MINI            7\n",
              "Rolls-Royce     7\n",
              "Hyundai         6\n",
              "Jaguar          6\n",
              "Kia             5\n",
              "Lincoln         4\n",
              "Bentley         2\n",
              "Chevrolet       2\n",
              "Cadillac        2\n",
              "Maserati        1\n",
              "Lamborghini     1\n",
              "Name: Make, dtype: int64"
            ]
          },
          "metadata": {},
          "execution_count": 9
        }
      ]
    },
    {
      "cell_type": "markdown",
      "source": [
        "### transmisor A8 (segundo mas usado)"
      ],
      "metadata": {
        "id": "31O7-COhDUbS"
      }
    },
    {
      "cell_type": "markdown",
      "source": [
        "Ahora comprobando el uso del segundo transmisor mas usado."
      ],
      "metadata": {
        "id": "KXQB4FQ0DhTy"
      }
    },
    {
      "cell_type": "code",
      "source": [
        "trmay2 = \"A8\"\n",
        "df_tr2 = df[df[\"Transmission\"] == trmay2]\n",
        "\n",
        "sns.set(rc={'figure.figsize':(7, 7)}) \n",
        "sns.set_style(\"white\") #fondo blanco\n",
        "df_tr2.groupby(['Make']).count().reset_index().plot(x='Make', \n",
        "                                                                           y='Transmission', \n",
        "                                                                           kind='bar', \n",
        "                                                                           legend=False, \n",
        "                                                                           ylabel='cantidad', \n",
        "                                                                           xlabel='marcas', \n",
        "                                                                           title='uso del transmisor A8',\n",
        "                                                                           )             \n",
        "plt.gca().yaxis.grid(True, linestyle='-', which='major', color='grey', alpha=.15) #lineas horizontales\n",
        "plt.show()"
      ],
      "metadata": {
        "colab": {
          "base_uri": "https://localhost:8080/",
          "height": 524
        },
        "id": "y_lSZwkPDf2P",
        "outputId": "b13dba18-8821-4268-950e-66f62917242a"
      },
      "execution_count": 11,
      "outputs": [
        {
          "output_type": "display_data",
          "data": {
            "text/plain": [
              "<Figure size 504x504 with 1 Axes>"
            ],
            "image/png": "[encoded data removed]"
          },
          "metadata": {}
        }
      ]
    },
    {
      "cell_type": "markdown",
      "source": [
        "Vemos que la marca de vehiculos que mas utiliza el transmisor A8 es Jeep.\n",
        "Numericamente se obtuvo la siguiente distribución:"
      ],
      "metadata": {
        "id": "3st2V3dLDqur"
      }
    },
    {
      "cell_type": "code",
      "source": [
        "dep2 = df_tr2.Make.value_counts() #conteo del uso del transmisor A8\n",
        "dep2.head(30)"
      ],
      "metadata": {
        "colab": {
          "base_uri": "https://localhost:8080/"
        },
        "id": "hK4oJ3FgDnIS",
        "outputId": "faabfe89-acec-40b5-9d54-bbca078ae38d"
      },
      "execution_count": 13,
      "outputs": [
        {
          "output_type": "execute_result",
          "data": {
            "text/plain": [
              "Jeep            19\n",
              "Dodge           16\n",
              "Ram             15\n",
              "Maserati        12\n",
              "Chevrolet        9\n",
              "GMC              8\n",
              "Alfa Romeo       6\n",
              "Ford             6\n",
              "Aston Martin     4\n",
              "Chrysler         3\n",
              "Lincoln          1\n",
              "Volkswagen       1\n",
              "Name: Make, dtype: int64"
            ]
          },
          "metadata": {},
          "execution_count": 13
        }
      ]
    },
    {
      "cell_type": "markdown",
      "source": [
        "### transmisor AS10 (tercero mas usado)"
      ],
      "metadata": {
        "id": "YtOYgX6_Dwcp"
      }
    },
    {
      "cell_type": "markdown",
      "source": [
        "Ahora comprobando el uso del tercer transmisor mas usado"
      ],
      "metadata": {
        "id": "59Af-uVXD-Hs"
      }
    },
    {
      "cell_type": "code",
      "source": [
        "trmay3 = \"AS10\"\n",
        "df_tr3 = df[df[\"Transmission\"] == trmay3]\n",
        "\n",
        "sns.set(rc={'figure.figsize':(7, 7)}) \n",
        "sns.set_style(\"white\") #fondo blanco\n",
        "df_tr3.groupby(['Make']).count().reset_index().plot(x='Make', \n",
        "                                                                           y='Transmission', \n",
        "                                                                           kind='bar', \n",
        "                                                                           legend=False, \n",
        "                                                                           ylabel='cantidad', \n",
        "                                                                           xlabel='marcas', \n",
        "                                                                           title='uso del transmisor AS10',\n",
        "                                                                           )             \n",
        "plt.gca().yaxis.grid(True, linestyle='-', which='major', color='grey', alpha=.15) #lineas horizontales\n",
        "plt.show()"
      ],
      "metadata": {
        "colab": {
          "base_uri": "https://localhost:8080/",
          "height": 507
        },
        "id": "GEwORtz9Dp6F",
        "outputId": "9089a60f-4d75-4f10-d845-45d5a2257d7f"
      },
      "execution_count": 14,
      "outputs": [
        {
          "output_type": "display_data",
          "data": {
            "text/plain": [
              "<Figure size 504x504 with 1 Axes>"
            ],
            "image/png": "[encoded data removed]"
          },
          "metadata": {}
        }
      ]
    },
    {
      "cell_type": "markdown",
      "source": [
        "Vemos que la marca de vehiculos que mas utiliza el transmisor AS10 es Ford.\n",
        "Numericamente se obtuvo la siguiente distribución:"
      ],
      "metadata": {
        "id": "HWr_VPmYEUNb"
      }
    },
    {
      "cell_type": "code",
      "source": [
        "dep3 = df_tr3.Make.value_counts() #conteo del uso del transmisor AS10\n",
        "dep3.head(30)"
      ],
      "metadata": {
        "colab": {
          "base_uri": "https://localhost:8080/"
        },
        "id": "7ZRhFEXHEC--",
        "outputId": "4ff356ae-8b38-497c-f633-8f707a792845"
      },
      "execution_count": 15,
      "outputs": [
        {
          "output_type": "execute_result",
          "data": {
            "text/plain": [
              "Ford         51\n",
              "Cadillac     12\n",
              "Acura         7\n",
              "Lexus         5\n",
              "Toyota        5\n",
              "Chevrolet     3\n",
              "Honda         2\n",
              "Lincoln       2\n",
              "Name: Make, dtype: int64"
            ]
          },
          "metadata": {},
          "execution_count": 15
        }
      ]
    },
    {
      "cell_type": "markdown",
      "source": [
        "##resultados transmisores"
      ],
      "metadata": {
        "id": "vskg9UHLEiBl"
      }
    },
    {
      "cell_type": "markdown",
      "source": [
        "Como podemos observar de las anteriores tablas, los 3 transmisores mas usados con su respectiva marca mas frecuente es la siguiente:\n",
        "\n",
        "1. AS8  --->  BMW  (58 de 212 totales)\n",
        "2. A8   --->  Jeep (19 de 100 totales)\n",
        "3. AS10 --->  FORD (51 de 87 totales)"
      ],
      "metadata": {
        "id": "IJlTGEAuEp3t"
      }
    },
    {
      "cell_type": "code",
      "source": [
        ""
      ],
      "metadata": {
        "id": "V0jd8S3DEx2_"
      },
      "execution_count": null,
      "outputs": []
    }
  ]
}